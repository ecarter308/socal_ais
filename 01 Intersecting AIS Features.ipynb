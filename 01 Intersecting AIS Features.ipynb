{
 "cells": [
  {
   "cell_type": "markdown",
   "id": "b3c10a23",
   "metadata": {},
   "source": [
    "### Intersecting AIS Features\n",
    "\n",
    "#### Date created: 11/21/2024\n",
    "#### Clip all AIS layers for 2023 to the SoCal BOEM aliquot grid and export\n",
    "#### AIS lines were created by Brian Free using points from Marine Cadastre"
   ]
  },
  {
   "cell_type": "code",
   "execution_count": 5,
   "id": "cae431b6",
   "metadata": {},
   "outputs": [],
   "source": [
    "#import system modules and set environment\n",
    "import arcpy\n",
    "import os\n",
    "import pandas as pd\n",
    "import numpy as np\n",
    "from arcpy import env\n",
    "from arcpy.sa import *\n",
    "arcpy.env.overwriteOutput = True\n",
    "arcpy.env.workspace = 'C:/Users/Eliza.Carter/Documents/Projects/California/socal_ais'"
   ]
  },
  {
   "cell_type": "code",
   "execution_count": 6,
   "id": "11193624",
   "metadata": {},
   "outputs": [],
   "source": [
    "#define spatial reference (EPSG for NAD 83 UTM Zone 11N)\n",
    "spatial_ref = arcpy.SpatialReference(26911)\n",
    "\n",
    "boem_grid = 'data/b_intermediate_data/socal_boem_grid.shp'"
   ]
  },
  {
   "cell_type": "code",
   "execution_count": 7,
   "id": "84b0a0ca",
   "metadata": {
    "scrolled": true
   },
   "outputs": [],
   "source": [
    "# Paths\n",
    "gpkg_path = 'data/a_raw_data/wc_ais_transect.gpkg'\n",
    "output_folder = 'data/b_intermediate_data/'\n",
    "\n",
    "# List GPKG layers\n",
    "gpkg_description = arcpy.Describe(gpkg_path)\n",
    "layer_names = [layer.name for layer in gpkg_description.children]\n",
    "\n",
    "# Loop through each layer\n",
    "for layer_name in layer_names:\n",
    "    layer_path = f\"{gpkg_path}/{layer_name}\"\n",
    "    \n",
    "    # Extract the last part of the layer name for output file naming\n",
    "    output_filename = layer_name.split('.')[-1] + '_intersect.shp'\n",
    "    output_path = f\"{output_folder}{output_filename}\"\n",
    "\n",
    "    # Create a feature layer\n",
    "    arcpy.management.MakeFeatureLayer(layer_path, \"ais_transects\")\n",
    "\n",
    "    # Select features that intersect the grid\n",
    "    arcpy.management.SelectLayerByLocation(\n",
    "        in_layer=\"ais_transects\",\n",
    "        overlap_type=\"INTERSECT\",\n",
    "        select_features=boem_grid,\n",
    "        search_distance=None,\n",
    "        selection_type=\"NEW_SELECTION\"\n",
    "    )\n",
    "\n",
    "    # Copy selected features to a new shapefile\n",
    "    arcpy.management.CopyFeatures(\"ais_transects\", output_path)\n",
    "\n",
    "    # Clean up\n",
    "    arcpy.management.Delete(\"ais_transects\")\n",
    "\n",
    "    # Project the intersecting AIS transects\n",
    "    projected_path = output_path.replace(\"_intersect.shp\", \"_socal.shp\")\n",
    "    arcpy.management.Project(output_path, projected_path, spatial_ref)\n",
    "\n",
    "    # Clean up intermediate files\n",
    "    arcpy.management.Delete(output_path)\n"
   ]
  },
  {
   "cell_type": "code",
   "execution_count": null,
   "id": "7798a083-cf5e-46a8-86bc-e077c82e95b0",
   "metadata": {},
   "outputs": [],
   "source": []
  }
 ],
 "metadata": {
  "kernelspec": {
   "display_name": "Python 3 (ipykernel)",
   "language": "python",
   "name": "python3"
  },
  "language_info": {
   "codemirror_mode": {
    "name": "ipython",
    "version": 3
   },
   "file_extension": ".py",
   "mimetype": "text/x-python",
   "name": "python",
   "nbconvert_exporter": "python",
   "pygments_lexer": "ipython3",
   "version": "3.11.10"
  }
 },
 "nbformat": 4,
 "nbformat_minor": 5
}
